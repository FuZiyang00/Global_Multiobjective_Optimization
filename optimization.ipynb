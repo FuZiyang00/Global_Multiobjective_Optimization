{
 "cells": [
  {
   "cell_type": "markdown",
   "metadata": {},
   "source": [
    "# Global and Multiobjective Optimization project \n"
   ]
  },
  {
   "cell_type": "code",
   "execution_count": 1,
   "metadata": {},
   "outputs": [
    {
     "name": "stdout",
     "output_type": "stream",
     "text": [
      "(10433, 126)\n"
     ]
    },
    {
     "data": {
      "text/html": [
       "<div>\n",
       "<style scoped>\n",
       "    .dataframe tbody tr th:only-of-type {\n",
       "        vertical-align: middle;\n",
       "    }\n",
       "\n",
       "    .dataframe tbody tr th {\n",
       "        vertical-align: top;\n",
       "    }\n",
       "\n",
       "    .dataframe thead th {\n",
       "        text-align: right;\n",
       "    }\n",
       "</style>\n",
       "<table border=\"1\" class=\"dataframe\">\n",
       "  <thead>\n",
       "    <tr style=\"text-align: right;\">\n",
       "      <th></th>\n",
       "      <th>ACID_TEST_X</th>\n",
       "      <th>CASH_SECU_M</th>\n",
       "      <th>CFL_M</th>\n",
       "      <th>CREDITOR_DY_Q</th>\n",
       "      <th>DEBTOR_DY_Q</th>\n",
       "      <th>DEPRA_M</th>\n",
       "      <th>SHRT_TRM_LIABI_M</th>\n",
       "      <th>STOCK_M</th>\n",
       "      <th>STOCK_TO_Q</th>\n",
       "      <th>SUM_ASSETS_M</th>\n",
       "      <th>...</th>\n",
       "      <th>TRD_CRED_M_mean</th>\n",
       "      <th>TRD_CRED_M_median</th>\n",
       "      <th>TURNOVER_M_mean</th>\n",
       "      <th>TURNOVER_M_median</th>\n",
       "      <th>WRK_CAP_M_mean</th>\n",
       "      <th>WRK_CAP_M_median</th>\n",
       "      <th>WRK_CAP_REQ_M_mean</th>\n",
       "      <th>WRK_CAP_REQ_M_median</th>\n",
       "      <th>target</th>\n",
       "      <th>year</th>\n",
       "    </tr>\n",
       "  </thead>\n",
       "  <tbody>\n",
       "    <tr>\n",
       "      <th>5134</th>\n",
       "      <td>5.635</td>\n",
       "      <td>2550868.0</td>\n",
       "      <td>341768.0</td>\n",
       "      <td>64.0</td>\n",
       "      <td>142.0</td>\n",
       "      <td>248220.0</td>\n",
       "      <td>217343.0</td>\n",
       "      <td>567116.0</td>\n",
       "      <td>29.0</td>\n",
       "      <td>7506985.0</td>\n",
       "      <td>...</td>\n",
       "      <td>3.264329e+06</td>\n",
       "      <td>543539.0</td>\n",
       "      <td>1.077381e+07</td>\n",
       "      <td>2137356.0</td>\n",
       "      <td>1.008646e+05</td>\n",
       "      <td>104551.5</td>\n",
       "      <td>-3.659130e+05</td>\n",
       "      <td>67854.0</td>\n",
       "      <td>1</td>\n",
       "      <td>2015</td>\n",
       "    </tr>\n",
       "    <tr>\n",
       "      <th>7154</th>\n",
       "      <td>0.625</td>\n",
       "      <td>757981.0</td>\n",
       "      <td>951975.0</td>\n",
       "      <td>NaN</td>\n",
       "      <td>52.0</td>\n",
       "      <td>67122.0</td>\n",
       "      <td>2712148.0</td>\n",
       "      <td>676223.0</td>\n",
       "      <td>39.0</td>\n",
       "      <td>5235190.0</td>\n",
       "      <td>...</td>\n",
       "      <td>2.083662e+06</td>\n",
       "      <td>494560.0</td>\n",
       "      <td>8.154246e+06</td>\n",
       "      <td>1529835.0</td>\n",
       "      <td>2.002685e+06</td>\n",
       "      <td>171312.0</td>\n",
       "      <td>1.392524e+06</td>\n",
       "      <td>91108.0</td>\n",
       "      <td>0</td>\n",
       "      <td>2017</td>\n",
       "    </tr>\n",
       "    <tr>\n",
       "      <th>9427</th>\n",
       "      <td>NaN</td>\n",
       "      <td>NaN</td>\n",
       "      <td>NaN</td>\n",
       "      <td>NaN</td>\n",
       "      <td>NaN</td>\n",
       "      <td>NaN</td>\n",
       "      <td>NaN</td>\n",
       "      <td>NaN</td>\n",
       "      <td>NaN</td>\n",
       "      <td>NaN</td>\n",
       "      <td>...</td>\n",
       "      <td>3.760137e+06</td>\n",
       "      <td>655697.0</td>\n",
       "      <td>1.797517e+07</td>\n",
       "      <td>2490692.0</td>\n",
       "      <td>1.204295e+06</td>\n",
       "      <td>96529.5</td>\n",
       "      <td>1.476919e+06</td>\n",
       "      <td>48821.0</td>\n",
       "      <td>1</td>\n",
       "      <td>2019</td>\n",
       "    </tr>\n",
       "    <tr>\n",
       "      <th>10766</th>\n",
       "      <td>1.281</td>\n",
       "      <td>10608.0</td>\n",
       "      <td>105697.0</td>\n",
       "      <td>NaN</td>\n",
       "      <td>177.0</td>\n",
       "      <td>88422.0</td>\n",
       "      <td>807607.0</td>\n",
       "      <td>152333.0</td>\n",
       "      <td>49.0</td>\n",
       "      <td>1549968.0</td>\n",
       "      <td>...</td>\n",
       "      <td>3.687741e+06</td>\n",
       "      <td>668489.0</td>\n",
       "      <td>1.682590e+07</td>\n",
       "      <td>2520467.0</td>\n",
       "      <td>3.641166e+06</td>\n",
       "      <td>554650.0</td>\n",
       "      <td>1.987091e+06</td>\n",
       "      <td>246587.0</td>\n",
       "      <td>1</td>\n",
       "      <td>2022</td>\n",
       "    </tr>\n",
       "    <tr>\n",
       "      <th>9920</th>\n",
       "      <td>1.766</td>\n",
       "      <td>840458.0</td>\n",
       "      <td>140586.0</td>\n",
       "      <td>163.0</td>\n",
       "      <td>50.0</td>\n",
       "      <td>128570.0</td>\n",
       "      <td>254730.0</td>\n",
       "      <td>237153.0</td>\n",
       "      <td>34.0</td>\n",
       "      <td>3073528.0</td>\n",
       "      <td>...</td>\n",
       "      <td>1.822735e+06</td>\n",
       "      <td>327789.0</td>\n",
       "      <td>6.705116e+06</td>\n",
       "      <td>1214379.0</td>\n",
       "      <td>1.534599e+06</td>\n",
       "      <td>239984.0</td>\n",
       "      <td>9.718688e+05</td>\n",
       "      <td>73892.5</td>\n",
       "      <td>1</td>\n",
       "      <td>2020</td>\n",
       "    </tr>\n",
       "  </tbody>\n",
       "</table>\n",
       "<p>5 rows × 126 columns</p>\n",
       "</div>"
      ],
      "text/plain": [
       "       ACID_TEST_X  CASH_SECU_M     CFL_M  CREDITOR_DY_Q  DEBTOR_DY_Q  \\\n",
       "5134         5.635    2550868.0  341768.0           64.0        142.0   \n",
       "7154         0.625     757981.0  951975.0            NaN         52.0   \n",
       "9427           NaN          NaN       NaN            NaN          NaN   \n",
       "10766        1.281      10608.0  105697.0            NaN        177.0   \n",
       "9920         1.766     840458.0  140586.0          163.0         50.0   \n",
       "\n",
       "        DEPRA_M  SHRT_TRM_LIABI_M   STOCK_M  STOCK_TO_Q  SUM_ASSETS_M  ...  \\\n",
       "5134   248220.0          217343.0  567116.0        29.0     7506985.0  ...   \n",
       "7154    67122.0         2712148.0  676223.0        39.0     5235190.0  ...   \n",
       "9427        NaN               NaN       NaN         NaN           NaN  ...   \n",
       "10766   88422.0          807607.0  152333.0        49.0     1549968.0  ...   \n",
       "9920   128570.0          254730.0  237153.0        34.0     3073528.0  ...   \n",
       "\n",
       "       TRD_CRED_M_mean  TRD_CRED_M_median  TURNOVER_M_mean  TURNOVER_M_median  \\\n",
       "5134      3.264329e+06           543539.0     1.077381e+07          2137356.0   \n",
       "7154      2.083662e+06           494560.0     8.154246e+06          1529835.0   \n",
       "9427      3.760137e+06           655697.0     1.797517e+07          2490692.0   \n",
       "10766     3.687741e+06           668489.0     1.682590e+07          2520467.0   \n",
       "9920      1.822735e+06           327789.0     6.705116e+06          1214379.0   \n",
       "\n",
       "       WRK_CAP_M_mean  WRK_CAP_M_median  WRK_CAP_REQ_M_mean  \\\n",
       "5134     1.008646e+05          104551.5       -3.659130e+05   \n",
       "7154     2.002685e+06          171312.0        1.392524e+06   \n",
       "9427     1.204295e+06           96529.5        1.476919e+06   \n",
       "10766    3.641166e+06          554650.0        1.987091e+06   \n",
       "9920     1.534599e+06          239984.0        9.718688e+05   \n",
       "\n",
       "       WRK_CAP_REQ_M_median  target  year  \n",
       "5134                67854.0       1  2015  \n",
       "7154                91108.0       0  2017  \n",
       "9427                48821.0       1  2019  \n",
       "10766              246587.0       1  2022  \n",
       "9920                73892.5       1  2020  \n",
       "\n",
       "[5 rows x 126 columns]"
      ]
     },
     "execution_count": 1,
     "metadata": {},
     "output_type": "execute_result"
    }
   ],
   "source": [
    "import pandas as pd \n",
    "import numpy as np\n",
    "\n",
    "df = pd.read_csv(\"data/training_df_final.csv\", sep=\";\", low_memory=False)\n",
    "\n",
    "# Calculate minimum number of non-NaN values required (> 50% of columns)\n",
    "min_non_nan = len(df.columns) * 0.5\n",
    "\n",
    "# Keep rows that have MORE than 50% non-NaN values\n",
    "df.dropna(thresh=min_non_nan + 1, inplace=True)\n",
    "print(df.shape)\n",
    "df.sample(5)"
   ]
  },
  {
   "cell_type": "code",
   "execution_count": null,
   "metadata": {},
   "outputs": [
    {
     "name": "stdout",
     "output_type": "stream",
     "text": [
      "Training vs Validation size: 9266 - 1167\n",
      "Training set Class distribution:\n",
      "TARGET\n",
      "1    80.4\n",
      "0    19.6\n",
      "Name: count, dtype: float64\n",
      "Test set Class distribution:\n",
      "TARGET\n",
      "1    77.6\n",
      "0    22.4\n",
      "Name: count, dtype: float64\n"
     ]
    }
   ],
   "source": [
    "import sys \n",
    "import os\n",
    "\n",
    "sys.path.append(os.path.abspath(\"src\"))\n",
    "from xgboost_model import (fit_model, oot_train_test_split, \n",
    "                           get_dummies_cols)\n",
    "\n",
    "from helper_functions import evaluate_model\n",
    "\n",
    "# Train Test split and Categorical Encoding \n",
    "\n",
    "X_train, X_test, y_train, y_test = oot_train_test_split(df, \n",
    "                                                    features_to_drop = None,\n",
    "                                                    top_features = None, \n",
    "                                                    oot=2022)\n",
    "\n",
    "source = X_train.copy()"
   ]
  },
  {
   "cell_type": "markdown",
   "metadata": {},
   "source": [
    "## Preprocessing: Discretization\n",
    "discretize the continous features based on their training set distribution "
   ]
  },
  {
   "cell_type": "code",
   "execution_count": null,
   "metadata": {},
   "outputs": [],
   "source": [
    "from helper_functions import discretize_multiple_features\n",
    "\n",
    "to_not_discretize = ['VAL_GRD_C', 'Sector', 'EX_POLICY_HOLDER', 'BELONG_GROUP', \n",
    "                     'is_company_italian', 'REGION_GROUP', 'year']\n",
    "\n",
    "column_list = df.columns.tolist()\n",
    "to_discretize = [col for col in column_list if col not in to_not_discretize]"
   ]
  },
  {
   "cell_type": "code",
   "execution_count": 4,
   "metadata": {},
   "outputs": [
    {
     "name": "stdout",
     "output_type": "stream",
     "text": [
      "Prepared discretization for ACID_TEST_X\n",
      "Prepared discretization for CASH_SECU_M\n",
      "Prepared discretization for CFL_M\n",
      "Prepared discretization for CREDITOR_DY_Q\n",
      "Prepared discretization for DEBTOR_DY_Q\n",
      "Prepared discretization for DEPRA_M\n",
      "Prepared discretization for SHRT_TRM_LIABI_M\n",
      "Prepared discretization for STOCK_M\n",
      "Prepared discretization for STOCK_TO_Q\n",
      "Prepared discretization for SUM_ASSETS_M\n",
      "Prepared discretization for SUM_FIX_ASSETS_M\n",
      "Prepared discretization for SUM_REM_WAG_SAL_M\n",
      "Prepared discretization for EXPO_TURNOVER_X\n",
      "Prepared discretization for FINANCE_ASSETS_M\n",
      "Prepared discretization for GEARING_RATIO_M\n",
      "Prepared discretization for GR_PROF_M\n",
      "Prepared discretization for INTA_ASSETS_M\n",
      "Prepared discretization for INT_COVER_X\n",
      "Prepared discretization for INT_PAID_M\n",
      "Prepared discretization for LONG_TRM_LIABI_M\n",
      "Prepared discretization for NON_TRADE_INCO_M\n",
      "Prepared discretization for OPE_PROF_M\n",
      "Prepared discretization for PRE_TAX_PRO_M\n",
      "Prepared discretization for PROFIT_MARGIN_X\n",
      "Prepared discretization for PST_TAX_PROF_M\n",
      "Prepared discretization for SHHOLD_FUND_M\n",
      "Prepared discretization for TO_ABO_X\n",
      "Prepared discretization for TRD_CRED_M\n",
      "Prepared discretization for TURNOVER_M\n",
      "Prepared discretization for WRK_CAP_M\n",
      "Prepared discretization for WRK_CAP_REQ_M\n",
      "Prepared discretization for ADT_M\n",
      "Prepared discretization for ADT_ENVELOPE_M\n",
      "Prepared discretization for ADT_PER_Q\n",
      "Prepared discretization for PERM_M_EUR\n",
      "Prepared discretization for AVG_NACE2_LOSS\n",
      "Prepared discretization for number_clr\n",
      "Prepared discretization for number_clr_last_12_months\n",
      "Prepared discretization for company_age\n",
      "Prepared discretization for percentage_used_envelope\n",
      "Prepared discretization for average_limit\n",
      "Prepared discretization for exposure_on_turnover\n",
      "Prepared discretization for ACID_TEST_X_mean\n",
      "Prepared discretization for ACID_TEST_X_median\n",
      "Warning: ADDED_VALUE_X_mean has insufficient unique values\n",
      "Warning: ADDED_VALUE_X_median has insufficient unique values\n",
      "Prepared discretization for CASH_SECU_M_mean\n",
      "Prepared discretization for CASH_SECU_M_median\n",
      "Prepared discretization for CFL_M_mean\n",
      "Prepared discretization for CFL_M_median\n",
      "Prepared discretization for CREDITOR_DY_Q_mean\n",
      "Prepared discretization for CREDITOR_DY_Q_median\n",
      "Prepared discretization for DEBTOR_DY_Q_mean\n",
      "Prepared discretization for DEBTOR_DY_Q_median\n",
      "Prepared discretization for DEPRA_M_mean\n",
      "Prepared discretization for DEPRA_M_median\n",
      "Prepared discretization for DIVIDEND_M_mean\n",
      "Prepared discretization for DIVIDEND_M_median\n",
      "Prepared discretization for SHRT_TRM_LIABI_M_mean\n",
      "Prepared discretization for SHRT_TRM_LIABI_M_median\n",
      "Prepared discretization for STOCK_M_mean\n",
      "Prepared discretization for STOCK_M_median\n",
      "Prepared discretization for STOCK_TO_Q_mean\n",
      "Prepared discretization for STOCK_TO_Q_median\n",
      "Prepared discretization for SUM_ASSETS_M_mean\n",
      "Prepared discretization for SUM_ASSETS_M_median\n",
      "Prepared discretization for SUM_FIX_ASSETS_M_mean\n",
      "Prepared discretization for SUM_FIX_ASSETS_M_median\n",
      "Prepared discretization for SUM_REM_WAG_SAL_M_mean\n",
      "Prepared discretization for SUM_REM_WAG_SAL_M_median\n",
      "Warning: EBE_M_mean has insufficient unique values\n",
      "Warning: EBE_M_median has insufficient unique values\n",
      "Warning: EXPL_PROV_SOL_M_mean has insufficient unique values\n",
      "Warning: EXPL_PROV_SOL_M_median has insufficient unique values\n",
      "Warning: EXPO_TURNOVER_X_mean has insufficient unique values\n",
      "Warning: EXPO_TURNOVER_X_median has insufficient unique values\n",
      "Prepared discretization for FINANCE_ASSETS_M_mean\n",
      "Prepared discretization for FINANCE_ASSETS_M_median\n",
      "Warning: FIN_RES_M_mean has insufficient unique values\n",
      "Warning: FIN_RES_M_median has insufficient unique values\n",
      "Warning: GDWILL_M_mean has insufficient unique values\n",
      "Warning: GDWILL_M_median has insufficient unique values\n",
      "Prepared discretization for GEARING_RATIO_M_mean\n",
      "Prepared discretization for GEARING_RATIO_M_median\n",
      "Prepared discretization for GR_PROF_M_mean\n",
      "Prepared discretization for GR_PROF_M_median\n",
      "Prepared discretization for INTA_ASSETS_M_mean\n",
      "Prepared discretization for INTA_ASSETS_M_median\n",
      "Prepared discretization for INT_COVER_X_mean\n",
      "Prepared discretization for INT_COVER_X_median\n",
      "Prepared discretization for INT_PAID_M_mean\n",
      "Prepared discretization for INT_PAID_M_median\n",
      "Prepared discretization for LONG_TRM_LIABI_M_mean\n",
      "Prepared discretization for LONG_TRM_LIABI_M_median\n",
      "Prepared discretization for NET_GRP_PROF_M_mean\n",
      "Prepared discretization for NET_GRP_PROF_M_median\n",
      "Prepared discretization for NON_TRADE_INCO_M_mean\n",
      "Prepared discretization for NON_TRADE_INCO_M_median\n",
      "Prepared discretization for OPE_PROF_M_mean\n",
      "Prepared discretization for OPE_PROF_M_median\n",
      "Prepared discretization for PRE_TAX_PRO_M_mean\n",
      "Prepared discretization for PRE_TAX_PRO_M_median\n",
      "Prepared discretization for PROFIT_MARGIN_X_mean\n",
      "Prepared discretization for PROFIT_MARGIN_X_median\n",
      "Prepared discretization for PST_TAX_PROF_M_mean\n",
      "Prepared discretization for PST_TAX_PROF_M_median\n",
      "Prepared discretization for SHHOLD_FUND_M_mean\n",
      "Prepared discretization for SHHOLD_FUND_M_median\n",
      "Prepared discretization for TO_ABO_X_mean\n",
      "Prepared discretization for TO_ABO_X_median\n",
      "Prepared discretization for TRD_CRED_M_mean\n",
      "Prepared discretization for TRD_CRED_M_median\n",
      "Prepared discretization for TURNOVER_M_mean\n",
      "Prepared discretization for TURNOVER_M_median\n",
      "Prepared discretization for WRK_CAP_M_mean\n",
      "Prepared discretization for WRK_CAP_M_median\n",
      "Prepared discretization for WRK_CAP_REQ_M_mean\n",
      "Prepared discretization for WRK_CAP_REQ_M_median\n",
      "Prepared discretization for ACID_TEST_X\n",
      "Prepared discretization for CASH_SECU_M\n",
      "Prepared discretization for CFL_M\n",
      "Prepared discretization for CREDITOR_DY_Q\n",
      "Prepared discretization for DEBTOR_DY_Q\n",
      "Prepared discretization for DEPRA_M\n",
      "Prepared discretization for SHRT_TRM_LIABI_M\n",
      "Prepared discretization for STOCK_M\n",
      "Prepared discretization for STOCK_TO_Q\n",
      "Prepared discretization for SUM_ASSETS_M\n",
      "Prepared discretization for SUM_FIX_ASSETS_M\n",
      "Prepared discretization for SUM_REM_WAG_SAL_M\n",
      "Prepared discretization for EXPO_TURNOVER_X\n",
      "Prepared discretization for FINANCE_ASSETS_M\n",
      "Prepared discretization for GEARING_RATIO_M\n",
      "Prepared discretization for GR_PROF_M\n",
      "Prepared discretization for INTA_ASSETS_M\n",
      "Prepared discretization for INT_COVER_X\n",
      "Prepared discretization for INT_PAID_M\n",
      "Prepared discretization for LONG_TRM_LIABI_M\n",
      "Prepared discretization for NON_TRADE_INCO_M\n",
      "Prepared discretization for OPE_PROF_M\n",
      "Prepared discretization for PRE_TAX_PRO_M\n",
      "Prepared discretization for PROFIT_MARGIN_X\n",
      "Prepared discretization for PST_TAX_PROF_M\n",
      "Prepared discretization for SHHOLD_FUND_M\n",
      "Prepared discretization for TO_ABO_X\n",
      "Prepared discretization for TRD_CRED_M\n",
      "Prepared discretization for TURNOVER_M\n",
      "Prepared discretization for WRK_CAP_M\n",
      "Prepared discretization for WRK_CAP_REQ_M\n",
      "Prepared discretization for ADT_M\n",
      "Prepared discretization for ADT_ENVELOPE_M\n",
      "Prepared discretization for ADT_PER_Q\n",
      "Prepared discretization for PERM_M_EUR\n",
      "Prepared discretization for AVG_NACE2_LOSS\n",
      "Prepared discretization for number_clr\n",
      "Prepared discretization for number_clr_last_12_months\n",
      "Prepared discretization for company_age\n",
      "Prepared discretization for percentage_used_envelope\n",
      "Prepared discretization for average_limit\n",
      "Prepared discretization for exposure_on_turnover\n",
      "Prepared discretization for ACID_TEST_X_mean\n",
      "Prepared discretization for ACID_TEST_X_median\n",
      "Warning: ADDED_VALUE_X_mean has insufficient unique values\n",
      "Warning: ADDED_VALUE_X_median has insufficient unique values\n",
      "Prepared discretization for CASH_SECU_M_mean\n",
      "Prepared discretization for CASH_SECU_M_median\n",
      "Prepared discretization for CFL_M_mean\n",
      "Prepared discretization for CFL_M_median\n",
      "Prepared discretization for CREDITOR_DY_Q_mean\n",
      "Prepared discretization for CREDITOR_DY_Q_median\n",
      "Prepared discretization for DEBTOR_DY_Q_mean\n",
      "Prepared discretization for DEBTOR_DY_Q_median\n",
      "Prepared discretization for DEPRA_M_mean\n",
      "Prepared discretization for DEPRA_M_median\n",
      "Prepared discretization for DIVIDEND_M_mean\n",
      "Prepared discretization for DIVIDEND_M_median\n",
      "Prepared discretization for SHRT_TRM_LIABI_M_mean\n",
      "Prepared discretization for SHRT_TRM_LIABI_M_median\n",
      "Prepared discretization for STOCK_M_mean\n",
      "Prepared discretization for STOCK_M_median\n",
      "Prepared discretization for STOCK_TO_Q_mean\n",
      "Prepared discretization for STOCK_TO_Q_median\n",
      "Prepared discretization for SUM_ASSETS_M_mean\n",
      "Prepared discretization for SUM_ASSETS_M_median\n",
      "Prepared discretization for SUM_FIX_ASSETS_M_mean\n",
      "Prepared discretization for SUM_FIX_ASSETS_M_median\n",
      "Prepared discretization for SUM_REM_WAG_SAL_M_mean\n",
      "Prepared discretization for SUM_REM_WAG_SAL_M_median\n",
      "Warning: EBE_M_mean has insufficient unique values\n",
      "Warning: EBE_M_median has insufficient unique values\n",
      "Warning: EXPL_PROV_SOL_M_mean has insufficient unique values\n",
      "Warning: EXPL_PROV_SOL_M_median has insufficient unique values\n",
      "Warning: EXPO_TURNOVER_X_mean has insufficient unique values\n",
      "Warning: EXPO_TURNOVER_X_median has insufficient unique values\n",
      "Prepared discretization for FINANCE_ASSETS_M_mean\n",
      "Prepared discretization for FINANCE_ASSETS_M_median\n",
      "Warning: FIN_RES_M_mean has insufficient unique values\n",
      "Warning: FIN_RES_M_median has insufficient unique values\n",
      "Warning: GDWILL_M_mean has insufficient unique values\n",
      "Warning: GDWILL_M_median has insufficient unique values\n",
      "Prepared discretization for GEARING_RATIO_M_mean\n",
      "Prepared discretization for GEARING_RATIO_M_median\n",
      "Prepared discretization for GR_PROF_M_mean\n",
      "Prepared discretization for GR_PROF_M_median\n",
      "Prepared discretization for INTA_ASSETS_M_mean\n",
      "Prepared discretization for INTA_ASSETS_M_median\n",
      "Prepared discretization for INT_COVER_X_mean\n",
      "Prepared discretization for INT_COVER_X_median\n",
      "Prepared discretization for INT_PAID_M_mean\n",
      "Prepared discretization for INT_PAID_M_median\n",
      "Prepared discretization for LONG_TRM_LIABI_M_mean\n",
      "Prepared discretization for LONG_TRM_LIABI_M_median\n",
      "Prepared discretization for NET_GRP_PROF_M_mean\n",
      "Prepared discretization for NET_GRP_PROF_M_median\n",
      "Prepared discretization for NON_TRADE_INCO_M_mean\n",
      "Prepared discretization for NON_TRADE_INCO_M_median\n",
      "Prepared discretization for OPE_PROF_M_mean\n",
      "Prepared discretization for OPE_PROF_M_median\n",
      "Prepared discretization for PRE_TAX_PRO_M_mean\n",
      "Prepared discretization for PRE_TAX_PRO_M_median\n",
      "Prepared discretization for PROFIT_MARGIN_X_mean\n",
      "Prepared discretization for PROFIT_MARGIN_X_median\n",
      "Prepared discretization for PST_TAX_PROF_M_mean\n",
      "Prepared discretization for PST_TAX_PROF_M_median\n",
      "Prepared discretization for SHHOLD_FUND_M_mean\n",
      "Prepared discretization for SHHOLD_FUND_M_median\n",
      "Prepared discretization for TO_ABO_X_mean\n",
      "Prepared discretization for TO_ABO_X_median\n",
      "Prepared discretization for TRD_CRED_M_mean\n",
      "Prepared discretization for TRD_CRED_M_median\n",
      "Prepared discretization for TURNOVER_M_mean\n",
      "Prepared discretization for TURNOVER_M_median\n",
      "Prepared discretization for WRK_CAP_M_mean\n",
      "Prepared discretization for WRK_CAP_M_median\n",
      "Prepared discretization for WRK_CAP_REQ_M_mean\n",
      "Prepared discretization for WRK_CAP_REQ_M_median\n"
     ]
    }
   ],
   "source": [
    "X_train_discretized = discretize_multiple_features(source, X_train, to_discretize, n_bins=10)\n",
    "X_test_discretized = discretize_multiple_features(source, X_test, to_discretize, n_bins=10)\n",
    "\n",
    "cols = X_train_discretized.columns.tolist()\n",
    "cols_to_retain = [i for i in cols if i.split('_')[-1] not in {'median', 'mean'}]\n",
    "X_train_discretized = X_train_discretized[cols_to_retain]\n",
    "X_test_discretized = X_test_discretized[cols_to_retain]"
   ]
  },
  {
   "cell_type": "code",
   "execution_count": 5,
   "metadata": {},
   "outputs": [
    {
     "name": "stdout",
     "output_type": "stream",
     "text": [
      "(9266, 130)\n"
     ]
    },
    {
     "data": {
      "text/html": [
       "<div>\n",
       "<style scoped>\n",
       "    .dataframe tbody tr th:only-of-type {\n",
       "        vertical-align: middle;\n",
       "    }\n",
       "\n",
       "    .dataframe tbody tr th {\n",
       "        vertical-align: top;\n",
       "    }\n",
       "\n",
       "    .dataframe thead th {\n",
       "        text-align: right;\n",
       "    }\n",
       "</style>\n",
       "<table border=\"1\" class=\"dataframe\">\n",
       "  <thead>\n",
       "    <tr style=\"text-align: right;\">\n",
       "      <th></th>\n",
       "      <th>VAL_GRD_C</th>\n",
       "      <th>EX_POLICY_HOLDER</th>\n",
       "      <th>BELONG_GROUP</th>\n",
       "      <th>is_company_italian</th>\n",
       "      <th>ACID_TEST_X_PERCENTILE</th>\n",
       "      <th>CASH_SECU_M_PERCENTILE</th>\n",
       "      <th>CFL_M_PERCENTILE</th>\n",
       "      <th>CREDITOR_DY_Q_PERCENTILE</th>\n",
       "      <th>DEBTOR_DY_Q_PERCENTILE</th>\n",
       "      <th>DEPRA_M_PERCENTILE</th>\n",
       "      <th>...</th>\n",
       "      <th>Sector_Paper</th>\n",
       "      <th>Sector_Paper-X</th>\n",
       "      <th>Sector_Retail</th>\n",
       "      <th>Sector_Services</th>\n",
       "      <th>Sector_Textiles</th>\n",
       "      <th>Sector_Transport</th>\n",
       "      <th>Sector_Unknown</th>\n",
       "      <th>REGION_GROUP_NORD</th>\n",
       "      <th>REGION_GROUP_SUD</th>\n",
       "      <th>TARGET</th>\n",
       "    </tr>\n",
       "  </thead>\n",
       "  <tbody>\n",
       "    <tr>\n",
       "      <th>4561</th>\n",
       "      <td>6.0</td>\n",
       "      <td>1</td>\n",
       "      <td>0</td>\n",
       "      <td>1</td>\n",
       "      <td>NaN</td>\n",
       "      <td>NaN</td>\n",
       "      <td>NaN</td>\n",
       "      <td>NaN</td>\n",
       "      <td>NaN</td>\n",
       "      <td>NaN</td>\n",
       "      <td>...</td>\n",
       "      <td>0</td>\n",
       "      <td>1</td>\n",
       "      <td>0</td>\n",
       "      <td>0</td>\n",
       "      <td>0</td>\n",
       "      <td>0</td>\n",
       "      <td>0</td>\n",
       "      <td>0</td>\n",
       "      <td>0</td>\n",
       "      <td>1</td>\n",
       "    </tr>\n",
       "    <tr>\n",
       "      <th>9082</th>\n",
       "      <td>7.0</td>\n",
       "      <td>0</td>\n",
       "      <td>0</td>\n",
       "      <td>1</td>\n",
       "      <td>2.0</td>\n",
       "      <td>6.0</td>\n",
       "      <td>NaN</td>\n",
       "      <td>NaN</td>\n",
       "      <td>NaN</td>\n",
       "      <td>0.0</td>\n",
       "      <td>...</td>\n",
       "      <td>0</td>\n",
       "      <td>0</td>\n",
       "      <td>0</td>\n",
       "      <td>0</td>\n",
       "      <td>0</td>\n",
       "      <td>0</td>\n",
       "      <td>0</td>\n",
       "      <td>1</td>\n",
       "      <td>0</td>\n",
       "      <td>1</td>\n",
       "    </tr>\n",
       "    <tr>\n",
       "      <th>7835</th>\n",
       "      <td>6.0</td>\n",
       "      <td>0</td>\n",
       "      <td>0</td>\n",
       "      <td>1</td>\n",
       "      <td>NaN</td>\n",
       "      <td>NaN</td>\n",
       "      <td>NaN</td>\n",
       "      <td>NaN</td>\n",
       "      <td>NaN</td>\n",
       "      <td>NaN</td>\n",
       "      <td>...</td>\n",
       "      <td>0</td>\n",
       "      <td>0</td>\n",
       "      <td>0</td>\n",
       "      <td>0</td>\n",
       "      <td>1</td>\n",
       "      <td>0</td>\n",
       "      <td>0</td>\n",
       "      <td>0</td>\n",
       "      <td>0</td>\n",
       "      <td>1</td>\n",
       "    </tr>\n",
       "    <tr>\n",
       "      <th>5630</th>\n",
       "      <td>4.0</td>\n",
       "      <td>0</td>\n",
       "      <td>1</td>\n",
       "      <td>1</td>\n",
       "      <td>0.0</td>\n",
       "      <td>1.0</td>\n",
       "      <td>9.0</td>\n",
       "      <td>5.0</td>\n",
       "      <td>2.0</td>\n",
       "      <td>9.0</td>\n",
       "      <td>...</td>\n",
       "      <td>1</td>\n",
       "      <td>0</td>\n",
       "      <td>0</td>\n",
       "      <td>0</td>\n",
       "      <td>0</td>\n",
       "      <td>0</td>\n",
       "      <td>0</td>\n",
       "      <td>0</td>\n",
       "      <td>0</td>\n",
       "      <td>1</td>\n",
       "    </tr>\n",
       "    <tr>\n",
       "      <th>4861</th>\n",
       "      <td>7.0</td>\n",
       "      <td>0</td>\n",
       "      <td>0</td>\n",
       "      <td>1</td>\n",
       "      <td>NaN</td>\n",
       "      <td>NaN</td>\n",
       "      <td>NaN</td>\n",
       "      <td>NaN</td>\n",
       "      <td>NaN</td>\n",
       "      <td>NaN</td>\n",
       "      <td>...</td>\n",
       "      <td>1</td>\n",
       "      <td>0</td>\n",
       "      <td>0</td>\n",
       "      <td>0</td>\n",
       "      <td>0</td>\n",
       "      <td>0</td>\n",
       "      <td>0</td>\n",
       "      <td>1</td>\n",
       "      <td>0</td>\n",
       "      <td>1</td>\n",
       "    </tr>\n",
       "  </tbody>\n",
       "</table>\n",
       "<p>5 rows × 130 columns</p>\n",
       "</div>"
      ],
      "text/plain": [
       "      VAL_GRD_C  EX_POLICY_HOLDER  BELONG_GROUP  is_company_italian  \\\n",
       "4561        6.0                 1             0                   1   \n",
       "9082        7.0                 0             0                   1   \n",
       "7835        6.0                 0             0                   1   \n",
       "5630        4.0                 0             1                   1   \n",
       "4861        7.0                 0             0                   1   \n",
       "\n",
       "      ACID_TEST_X_PERCENTILE  CASH_SECU_M_PERCENTILE  CFL_M_PERCENTILE  \\\n",
       "4561                     NaN                     NaN               NaN   \n",
       "9082                     2.0                     6.0               NaN   \n",
       "7835                     NaN                     NaN               NaN   \n",
       "5630                     0.0                     1.0               9.0   \n",
       "4861                     NaN                     NaN               NaN   \n",
       "\n",
       "      CREDITOR_DY_Q_PERCENTILE  DEBTOR_DY_Q_PERCENTILE  DEPRA_M_PERCENTILE  \\\n",
       "4561                       NaN                     NaN                 NaN   \n",
       "9082                       NaN                     NaN                 0.0   \n",
       "7835                       NaN                     NaN                 NaN   \n",
       "5630                       5.0                     2.0                 9.0   \n",
       "4861                       NaN                     NaN                 NaN   \n",
       "\n",
       "      ...  Sector_Paper  Sector_Paper-X  Sector_Retail  Sector_Services  \\\n",
       "4561  ...             0               1              0                0   \n",
       "9082  ...             0               0              0                0   \n",
       "7835  ...             0               0              0                0   \n",
       "5630  ...             1               0              0                0   \n",
       "4861  ...             1               0              0                0   \n",
       "\n",
       "      Sector_Textiles  Sector_Transport  Sector_Unknown  REGION_GROUP_NORD  \\\n",
       "4561                0                 0               0                  0   \n",
       "9082                0                 0               0                  1   \n",
       "7835                1                 0               0                  0   \n",
       "5630                0                 0               0                  0   \n",
       "4861                0                 0               0                  1   \n",
       "\n",
       "      REGION_GROUP_SUD  TARGET  \n",
       "4561                 0       1  \n",
       "9082                 0       1  \n",
       "7835                 0       1  \n",
       "5630                 0       1  \n",
       "4861                 0       1  \n",
       "\n",
       "[5 rows x 130 columns]"
      ]
     },
     "execution_count": 5,
     "metadata": {},
     "output_type": "execute_result"
    }
   ],
   "source": [
    "X_train_discretized, X_test_discretized = get_dummies_cols(X_train_discretized, X_test_discretized, \n",
    "                                                           cols = ['Sector', \"REGION_GROUP\"])\n",
    "\n",
    "X_train_discretized.drop(columns=['year'], inplace=True)\n",
    "X_test_discretized.drop(columns=['year'], inplace=True)\n",
    "\n",
    "training_df = pd.concat([X_train_discretized, y_train], axis=1)\n",
    "print(training_df.shape)\n",
    "\n",
    "# casting boolean columns to int\n",
    "bool_cols = [col for col in training_df.columns if training_df[col].dtype == 'bool']\n",
    "training_df[bool_cols] = training_df[bool_cols].astype(int)\n",
    "\n",
    "training_df.sample(5)"
   ]
  },
  {
   "cell_type": "code",
   "execution_count": 6,
   "metadata": {},
   "outputs": [
    {
     "name": "stdout",
     "output_type": "stream",
     "text": [
      "(9266, 129)\n",
      "(1167, 129)\n",
      "\n",
      "\tTraining Performance\t\tValidation Performance\n",
      "\t--------------------\t\t----------------------\n",
      "[0]\tvalidation_0-aucpr:0.85638\tvalidation_1-aucpr:0.85661\n",
      "[50]\tvalidation_0-aucpr:0.90819\tvalidation_1-aucpr:0.87884\n",
      "[100]\tvalidation_0-aucpr:0.91601\tvalidation_1-aucpr:0.88240\n",
      "[150]\tvalidation_0-aucpr:0.92070\tvalidation_1-aucpr:0.88209\n",
      "[156]\tvalidation_0-aucpr:0.92139\tvalidation_1-aucpr:0.88262\n",
      "Working with parameters: {'eta': 0.01, 'gamma': 0.1, 'max_depth': 6, 'subsample': 0.2, 'colsample_bytree': 1, 'objective': 'binary:logistic', 'base_score': 0.5, 'eval_metric': 'aucpr', 'seed': 42, 'min_child_weight': 2, 'reg_alpha': 2, 'importance_type': 'gain', 'n_estimators': 106}\n",
      "Done !\n",
      "\n",
      "Accuracy: 0.7284\n",
      "Precision: 0.8156\n",
      "Recall: 0.8400\n",
      "AUC: 0.6560\n"
     ]
    }
   ],
   "source": [
    "print(X_train_discretized.shape)\n",
    "print(X_test_discretized.shape)\n",
    "\n",
    "baseline_model, best_params = fit_model(X_train_discretized, y_train)\n",
    "print(\"\")\n",
    "baseline_metrics = evaluate_model(baseline_model, X_test_discretized, y_test)"
   ]
  },
  {
   "cell_type": "markdown",
   "metadata": {},
   "source": [
    "# Filter Approach"
   ]
  },
  {
   "cell_type": "code",
   "execution_count": null,
   "metadata": {},
   "outputs": [
    {
     "name": "stdout",
     "output_type": "stream",
     "text": [
      "Generation 0: New best new individual with fitness = 0.0395\n",
      "Generation 0: Best=0.0395, \n",
      " Difference with full feature set=78\n",
      "Generation 1: New best new individual with fitness = 0.0388\n",
      "Generation 2: New best new individual with fitness = 0.0349\n",
      "Generation 3: New best new individual with fitness = 0.0333\n",
      "Generation 4: New best new individual with fitness = 0.0302\n",
      "Generation 5: New best new individual with fitness = 0.0279\n",
      "Generation 6: No improvement\n",
      "Generation 7: No improvement\n",
      "Generation 8: No improvement\n",
      "Generation 9: No improvement\n",
      "Generation 10: No improvement\n",
      "Generation 10: Best=0.0279, \n",
      " Difference with full feature set=93\n",
      "Generation 11: No improvement\n",
      "Generation 12: No improvement\n",
      "Generation 13: No improvement\n",
      "Generation 14: No improvement\n",
      "Generation 15: No improvement\n",
      "Generation 16: No improvement\n",
      "Generation 17: No improvement\n",
      "Generation 18: No improvement\n",
      "Generation 19: No improvement\n",
      "Generation 20: New best new individual with fitness = 0.0264\n",
      "Generation 20: Best=0.0264, \n",
      " Difference with full feature set=95\n",
      "Generation 21: No improvement\n",
      "Generation 22: No improvement\n",
      "Generation 23: No improvement\n",
      "Generation 24: New best new individual with fitness = 0.0256\n",
      "Generation 25: No improvement\n",
      "Generation 26: No improvement\n",
      "Generation 27: No improvement\n",
      "Generation 28: No improvement\n",
      "Generation 29: No improvement\n",
      "Generation 30: No improvement\n",
      "Generation 30: Best=0.0256, \n",
      " Difference with full feature set=96\n",
      "Generation 31: No improvement\n",
      "Generation 32: No improvement\n",
      "Generation 33: New best new individual with fitness = 0.0233\n",
      "Generation 34: No improvement\n",
      "Generation 35: No improvement\n",
      "Generation 36: No improvement\n",
      "Generation 37: No improvement\n",
      "Generation 38: No improvement\n",
      "Generation 39: No improvement\n",
      "Generation 40: No improvement\n",
      "Generation 40: Best=0.0233, \n",
      " Difference with full feature set=99\n",
      "Generation 41: No improvement\n",
      "Generation 42: No improvement\n",
      "Generation 43: No improvement\n",
      "Generation 44: No improvement\n",
      "Generation 45: No improvement\n",
      "Generation 46: No improvement\n",
      "Generation 47: No improvement\n",
      "Generation 48: No improvement\n",
      "Generation 49: No improvement\n",
      "Generation 50: No improvement\n",
      "Generation 50: Best=0.0233, \n",
      " Difference with full feature set=99\n",
      "Generation 51: No improvement\n",
      "Generation 52: No improvement\n",
      "Generation 53: No improvement\n",
      "Generation 54: No improvement\n",
      "Generation 55: No improvement\n",
      "Generation 56: No improvement\n",
      "Generation 57: No improvement\n",
      "Generation 58: No improvement\n",
      "No improvement for 25 generations, stopping evolution.\n",
      "reached 'convergence' after 58 generations\n"
     ]
    }
   ],
   "source": [
    "from Filter_GA import Filter_Genetic_Algorithm\n",
    "\n",
    "filter_ga = Filter_Genetic_Algorithm(population_size=50, generations=100, mutation_rate=0.1, crossover_rate=0.9)\n",
    "filter_ga_features, filter_ga_time_consumption = filter_ga.evolve(training_df, penalty=0.1, \n",
    "                                                                  no_improvement_threshold=25\n",
    "                                                                  )"
   ]
  },
  {
   "cell_type": "code",
   "execution_count": null,
   "metadata": {},
   "outputs": [
    {
     "name": "stdout",
     "output_type": "stream",
     "text": [
      "12.38 minutes\n"
     ]
    }
   ],
   "source": [
    "print(round(filter_ga_time_consumption / 60, 2), \"minutes\")"
   ]
  },
  {
   "cell_type": "code",
   "execution_count": null,
   "metadata": {},
   "outputs": [
    {
     "name": "stdout",
     "output_type": "stream",
     "text": [
      "(9266, 30)\n",
      "(9266,)\n",
      "\n",
      "\tTraining Performance\t\tValidation Performance\n",
      "\t--------------------\t\t----------------------\n",
      "[0]\tvalidation_0-aucpr:0.84939\tvalidation_1-aucpr:0.83794\n",
      "[50]\tvalidation_0-aucpr:0.89816\tvalidation_1-aucpr:0.87431\n",
      "[100]\tvalidation_0-aucpr:0.90296\tvalidation_1-aucpr:0.87483\n",
      "[123]\tvalidation_0-aucpr:0.90462\tvalidation_1-aucpr:0.87482\n",
      "Working with parameters: {'eta': 0.01, 'gamma': 0.1, 'max_depth': 6, 'subsample': 0.2, 'colsample_bytree': 1, 'objective': 'binary:logistic', 'base_score': 0.5, 'eval_metric': 'aucpr', 'seed': 42, 'min_child_weight': 2, 'reg_alpha': 2, 'importance_type': 'gain', 'n_estimators': 73}\n",
      "Done !\n",
      "\n",
      "Accuracy: 0.7266\n",
      "Precision: 0.7986\n",
      "Recall: 0.8664\n",
      "AUC: 0.6135\n"
     ]
    }
   ],
   "source": [
    "y_train = training_df['TARGET']\n",
    "filter_ga_X_train = training_df[training_df.columns[:-1][np.where(filter_ga_features == 1)[0]]]\n",
    "filter_ga_X_test = X_test_discretized[training_df.columns[:-1][np.where(filter_ga_features == 1)[0]]]\n",
    "\n",
    "print(filter_ga_X_train.shape)\n",
    "print(y_train.shape)\n",
    "\n",
    "filter_ga_model, best_params = fit_model(filter_ga_X_train, y_train)\n",
    "print(\"\")\n",
    "filter_ga_metrics = evaluate_model(filter_ga_model, filter_ga_X_test, y_test)"
   ]
  },
  {
   "cell_type": "markdown",
   "metadata": {},
   "source": [
    "## Wrapper Method"
   ]
  },
  {
   "cell_type": "code",
   "execution_count": 13,
   "metadata": {},
   "outputs": [],
   "source": [
    "from xgboost import XGBClassifier\n",
    "\n",
    "params = {\n",
    "    'eta': 0.01, \n",
    "    'gamma': 0.1, \n",
    "    'max_depth': 6, \n",
    "    'subsample': 0.2, \n",
    "    'colsample_bytree': 1, \n",
    "    'objective': 'binary:logistic', \n",
    "    'base_score': 0.5, \n",
    "    'eval_metric': 'aucpr', \n",
    "    'seed': 42, \n",
    "    'min_child_weight': 2, \n",
    "    'reg_alpha': 2, \n",
    "    'importance_type': 'gain', \n",
    "    'n_estimators': 221\n",
    "}\n",
    "\n",
    "model = XGBClassifier(**params, \n",
    "                      scale_pos_weight=(y_train.value_counts().sort_index()[0] / y_train.value_counts().sort_index()[1])\n",
    "                      )\n"
   ]
  },
  {
   "cell_type": "code",
   "execution_count": 37,
   "metadata": {},
   "outputs": [
    {
     "name": "stdout",
     "output_type": "stream",
     "text": [
      "Generation 0: New best new individual with fitness = 0.7951\n",
      "Generation 0: Best=0.7951, \n",
      " Difference with full feature set=76\n",
      "Generation 1: New best new individual with fitness = 0.7967\n",
      "Generation 2: No improvement\n",
      "Generation 3: New best new individual with fitness = 0.7999\n",
      "Generation 4: New best new individual with fitness = 0.8009\n",
      "Generation 5: New best new individual with fitness = 0.8025\n",
      "Generation 6: New best new individual with fitness = 0.8067\n",
      "Generation 7: New best new individual with fitness = 0.8070\n",
      "Generation 8: No improvement\n",
      "Generation 9: No improvement\n",
      "Generation 10: No improvement\n",
      "Generation 10: Best=0.8070, \n",
      " Difference with full feature set=93\n",
      "Generation 11: No improvement\n",
      "Generation 12: No improvement\n",
      "Generation 13: New best new individual with fitness = 0.8085\n",
      "Generation 14: New best new individual with fitness = 0.8086\n",
      "Generation 15: No improvement\n",
      "Generation 16: No improvement\n",
      "Generation 17: No improvement\n",
      "Generation 18: New best new individual with fitness = 0.8098\n",
      "Generation 19: No improvement\n",
      "Generation 20: No improvement\n",
      "Generation 20: Best=0.8098, \n",
      " Difference with full feature set=93\n",
      "Generation 21: No improvement\n",
      "Generation 22: No improvement\n",
      "Generation 23: No improvement\n",
      "Generation 24: No improvement\n",
      "Generation 25: No improvement\n",
      "Generation 26: No improvement\n",
      "Generation 27: No improvement\n",
      "Generation 28: No improvement\n",
      "Generation 29: No improvement\n",
      "Generation 30: No improvement\n",
      "Generation 30: Best=0.8098, \n",
      " Difference with full feature set=93\n",
      "Generation 31: No improvement\n",
      "Generation 32: New best new individual with fitness = 0.8119\n",
      "Generation 33: No improvement\n",
      "Generation 34: No improvement\n",
      "Generation 35: No improvement\n",
      "Generation 36: No improvement\n",
      "Generation 37: New best new individual with fitness = 0.8122\n",
      "Generation 38: No improvement\n",
      "Generation 39: No improvement\n",
      "Generation 40: No improvement\n",
      "Generation 40: Best=0.8122, \n",
      " Difference with full feature set=92\n",
      "Generation 41: No improvement\n",
      "Generation 42: No improvement\n",
      "Generation 43: No improvement\n",
      "Generation 44: No improvement\n",
      "Generation 45: No improvement\n",
      "Generation 46: No improvement\n",
      "Generation 47: No improvement\n",
      "Generation 48: No improvement\n",
      "Generation 49: No improvement\n",
      "Generation 50: No improvement\n",
      "Generation 50: Best=0.8122, \n",
      " Difference with full feature set=92\n",
      "Generation 51: No improvement\n",
      "Generation 52: No improvement\n",
      "Generation 53: New best new individual with fitness = 0.8140\n",
      "Generation 54: No improvement\n",
      "Generation 55: No improvement\n",
      "Generation 56: No improvement\n",
      "Generation 57: No improvement\n",
      "Generation 58: No improvement\n",
      "Generation 59: No improvement\n",
      "Generation 60: No improvement\n",
      "Generation 60: Best=0.8140, \n",
      " Difference with full feature set=93\n",
      "Generation 61: No improvement\n",
      "Generation 62: No improvement\n",
      "Generation 63: No improvement\n",
      "Generation 64: No improvement\n",
      "Generation 65: No improvement\n",
      "Generation 66: No improvement\n",
      "Generation 67: No improvement\n",
      "Generation 68: No improvement\n",
      "Generation 69: No improvement\n",
      "Generation 70: No improvement\n",
      "Generation 70: Best=0.8140, \n",
      " Difference with full feature set=93\n",
      "Generation 71: No improvement\n",
      "Generation 72: No improvement\n",
      "Generation 73: No improvement\n",
      "Generation 74: No improvement\n",
      "Generation 75: No improvement\n",
      "Generation 76: No improvement\n",
      "Generation 77: No improvement\n",
      "Generation 78: No improvement\n",
      "No improvement for 25 generations, stopping evolution.\n",
      "reached 'convergence' after 78 generations\n"
     ]
    }
   ],
   "source": [
    "from Wrapper_GA import Wrapper_Genetic_Algorithm\n",
    "\n",
    "wrapper_ga = Wrapper_Genetic_Algorithm(population_size=50, generations=100, mutation_rate=0.1, crossover_rate=0.9)\n",
    "wrapper_ga_features, wrapper_ga_time_consumption = wrapper_ga.evolve(training_df, 0.1, model,\n",
    "                                                                     no_improvement_threshold=25\n",
    "                                                                     )"
   ]
  },
  {
   "cell_type": "code",
   "execution_count": 38,
   "metadata": {},
   "outputs": [
    {
     "name": "stdout",
     "output_type": "stream",
     "text": [
      "50.38 minutes\n"
     ]
    }
   ],
   "source": [
    "print(round(wrapper_ga_time_consumption / 60, 2), \"minutes\")"
   ]
  },
  {
   "cell_type": "code",
   "execution_count": 39,
   "metadata": {},
   "outputs": [
    {
     "name": "stdout",
     "output_type": "stream",
     "text": [
      "(9266, 36)\n",
      "(9266,)\n",
      "\n",
      "\tTraining Performance\t\tValidation Performance\n",
      "\t--------------------\t\t----------------------\n",
      "[0]\tvalidation_0-aucpr:0.85487\tvalidation_1-aucpr:0.84829\n",
      "[50]\tvalidation_0-aucpr:0.90056\tvalidation_1-aucpr:0.87337\n",
      "[100]\tvalidation_0-aucpr:0.90727\tvalidation_1-aucpr:0.87799\n",
      "[150]\tvalidation_0-aucpr:0.91047\tvalidation_1-aucpr:0.87811\n",
      "[200]\tvalidation_0-aucpr:0.91319\tvalidation_1-aucpr:0.87956\n",
      "[220]\tvalidation_0-aucpr:0.91437\tvalidation_1-aucpr:0.87997\n",
      "Working with parameters: {'eta': 0.01, 'gamma': 0.1, 'max_depth': 6, 'subsample': 0.2, 'colsample_bytree': 1, 'objective': 'binary:logistic', 'base_score': 0.5, 'eval_metric': 'aucpr', 'seed': 42, 'min_child_weight': 2, 'reg_alpha': 2, 'importance_type': 'gain', 'n_estimators': 217}\n",
      "Done !\n",
      "\n",
      "Accuracy: 0.7249\n",
      "Precision: 0.8176\n",
      "Recall: 0.8311\n",
      "AUC: 0.6533\n"
     ]
    }
   ],
   "source": [
    "y_train = training_df['TARGET']\n",
    "# generation_features = train_df.columns[:-1][np.where(self.best_individual == 1)[0]]\n",
    "wrapper_ga_X_train = training_df[training_df.columns[:-1][np.where(wrapper_ga_features == 1)[0]]]\n",
    "wrapper_ga_X_test = X_test_discretized[training_df.columns[:-1][np.where(wrapper_ga_features == 1)[0]]]\n",
    "\n",
    "print(wrapper_ga_X_train.shape)\n",
    "print(y_train.shape)\n",
    "\n",
    "wrapper_ga_model, best_params = fit_model(wrapper_ga_X_train, y_train)\n",
    "print(\"\")\n",
    "wrapper_ga_metrics = evaluate_model(wrapper_ga_model, wrapper_ga_X_test, y_test)"
   ]
  },
  {
   "cell_type": "markdown",
   "metadata": {},
   "source": [
    "# Benchmarks"
   ]
  },
  {
   "cell_type": "markdown",
   "metadata": {},
   "source": [
    "## Accuracy"
   ]
  },
  {
   "cell_type": "code",
   "execution_count": 40,
   "metadata": {},
   "outputs": [
    {
     "name": "stdout",
     "output_type": "stream",
     "text": [
      "Baseline Accuracy: 0.7284\n",
      "Filter GA Accuracy: 0.7266\n",
      "Wrapper GA Accuracy: 0.7249\n"
     ]
    }
   ],
   "source": [
    "baseline_accuracy = baseline_metrics['accuracy']\n",
    "filter_ga_accuracy = filter_ga_metrics['accuracy']\n",
    "wrapper_ga_accuracy = wrapper_ga_metrics['accuracy']\n",
    "\n",
    "print(f\"Baseline Accuracy: {baseline_accuracy:.4f}\")\n",
    "print(f\"Filter GA Accuracy: {filter_ga_accuracy:.4f}\")\n",
    "print(f\"Wrapper GA Accuracy: {wrapper_ga_accuracy:.4f}\")"
   ]
  },
  {
   "cell_type": "markdown",
   "metadata": {},
   "source": [
    "## Precision"
   ]
  },
  {
   "cell_type": "code",
   "execution_count": 41,
   "metadata": {},
   "outputs": [
    {
     "name": "stdout",
     "output_type": "stream",
     "text": [
      "Baseline Precision: 0.8156\n",
      "Filter GA Precision: 0.7986\n",
      "Wrapper GA Precision: 0.8176\n"
     ]
    }
   ],
   "source": [
    "baseline_precision = baseline_metrics['precision']\n",
    "filter_ga_precision = filter_ga_metrics['precision']\n",
    "wrapper_ga_precision = wrapper_ga_metrics['precision']\n",
    "\n",
    "print(f\"Baseline Precision: {baseline_precision:.4f}\")\n",
    "print(f\"Filter GA Precision: {filter_ga_precision:.4f}\")\n",
    "print(f\"Wrapper GA Precision: {wrapper_ga_precision:.4f}\")"
   ]
  },
  {
   "cell_type": "markdown",
   "metadata": {},
   "source": [
    "## Recall"
   ]
  },
  {
   "cell_type": "code",
   "execution_count": 42,
   "metadata": {},
   "outputs": [
    {
     "name": "stdout",
     "output_type": "stream",
     "text": [
      "Baseline Recall: 0.8400\n",
      "Filter GA Recall: 0.8664\n",
      "Wrapper GA Recall: 0.8311\n"
     ]
    }
   ],
   "source": [
    "baseline_recall = baseline_metrics['recall']\n",
    "filter_ga_recall = filter_ga_metrics['recall']\n",
    "wrapper_ga_recall = wrapper_ga_metrics['recall']\n",
    "\n",
    "print(f\"Baseline Recall: {baseline_recall:.4f}\")\n",
    "print(f\"Filter GA Recall: {filter_ga_recall:.4f}\")\n",
    "print(f\"Wrapper GA Recall: {wrapper_ga_recall:.4f}\")"
   ]
  },
  {
   "cell_type": "markdown",
   "metadata": {},
   "source": [
    "## AUC-ROC"
   ]
  },
  {
   "cell_type": "code",
   "execution_count": 43,
   "metadata": {},
   "outputs": [
    {
     "name": "stdout",
     "output_type": "stream",
     "text": [
      "Baseline AUC: 0.6560\n",
      "Filter GA AUC: 0.6135\n",
      "Wrapper GA AUC: 0.6533\n"
     ]
    }
   ],
   "source": [
    "baseline_auc = baseline_metrics['auc']\n",
    "filter_ga_auc = filter_ga_metrics['auc']\n",
    "wrapper_ga_auc = wrapper_ga_metrics['auc']\n",
    "\n",
    "print(f\"Baseline AUC: {baseline_auc:.4f}\")\n",
    "print(f\"Filter GA AUC: {filter_ga_auc:.4f}\")\n",
    "print(f\"Wrapper GA AUC: {wrapper_ga_auc:.4f}\")"
   ]
  },
  {
   "cell_type": "markdown",
   "metadata": {},
   "source": [
    "# Fitness evolution "
   ]
  },
  {
   "cell_type": "code",
   "execution_count": 1,
   "metadata": {},
   "outputs": [],
   "source": [
    "import json\n",
    "\n",
    "# Load JSON data from a file\n",
    "with open('results/filter_evolution_log.json', 'r') as f:\n",
    "    filter_data = json.load(f)\n",
    "\n",
    "# Extract data\n",
    "generations = [d[\"generation\"] for d in filter_data]\n",
    "fitness = [d[\"fitness\"] for d in filter_data]\n",
    "colors = ['blue' if d[\"improvement\"] else 'red' for d in filter_data]"
   ]
  },
  {
   "cell_type": "code",
   "execution_count": 2,
   "metadata": {},
   "outputs": [
    {
     "data": {
      "application/vnd.plotly.v1+json": {
       "config": {
        "plotlyServerURL": "https://plot.ly"
       },
       "data": [
        {
         "marker": {
          "color": [
           "blue",
           "blue",
           "blue",
           "red",
           "blue",
           "blue",
           "blue",
           "blue",
           "red",
           "red",
           "red",
           "red",
           "red",
           "red",
           "red",
           "red",
           "red",
           "red",
           "red",
           "blue",
           "red",
           "red",
           "red",
           "red",
           "red",
           "red",
           "red",
           "red",
           "red",
           "red",
           "red",
           "red",
           "red",
           "blue",
           "red",
           "red",
           "red",
           "red",
           "red",
           "red",
           "red",
           "red",
           "red",
           "red",
           "red",
           "red",
           "red",
           "red",
           "red",
           "red",
           "red",
           "red",
           "red",
           "red",
           "red",
           "red",
           "red",
           "red",
           "red",
           "red",
           "red",
           "red",
           "red",
           "red",
           "red",
           "red",
           "red",
           "red",
           "red",
           "red",
           "red",
           "red",
           "red",
           "red",
           "red",
           "red",
           "red",
           "red",
           "red",
           "red",
           "red",
           "red",
           "red",
           "red",
           "red",
           "red",
           "red",
           "red",
           "red",
           "red",
           "red",
           "red",
           "red",
           "red",
           "blue",
           "red",
           "red",
           "red",
           "red",
           "red"
          ],
          "line": {
           "color": "DarkSlateGrey",
           "width": 2
          },
          "size": 10
         },
         "mode": "markers+lines",
         "type": "scatter",
         "x": [
          0,
          1,
          2,
          3,
          4,
          5,
          6,
          7,
          8,
          9,
          10,
          11,
          12,
          13,
          14,
          15,
          16,
          17,
          18,
          19,
          20,
          21,
          22,
          23,
          24,
          25,
          26,
          27,
          28,
          29,
          30,
          31,
          32,
          33,
          34,
          35,
          36,
          37,
          38,
          39,
          40,
          41,
          42,
          43,
          44,
          45,
          46,
          47,
          48,
          49,
          50,
          51,
          52,
          53,
          54,
          55,
          56,
          57,
          58,
          59,
          60,
          61,
          62,
          63,
          64,
          65,
          66,
          67,
          68,
          69,
          70,
          71,
          72,
          73,
          74,
          75,
          76,
          77,
          78,
          79,
          80,
          81,
          82,
          83,
          84,
          85,
          86,
          87,
          88,
          89,
          90,
          91,
          92,
          93,
          94,
          95,
          96,
          97,
          98,
          99
         ],
         "y": [
          0.037984496124031014,
          0.03488372093023256,
          0.034108527131782945,
          0.034108527131782945,
          0.03255813953488373,
          0.030232558139534883,
          0.029457364341085274,
          0.028682170542635662,
          0.028682170542635662,
          0.028682170542635662,
          0.028682170542635662,
          0.028682170542635662,
          0.028682170542635662,
          0.028682170542635662,
          0.028682170542635662,
          0.028682170542635662,
          0.028682170542635662,
          0.028682170542635662,
          0.028682170542635662,
          0.027131782945736434,
          0.027131782945736434,
          0.027131782945736434,
          0.027131782945736434,
          0.027131782945736434,
          0.027131782945736434,
          0.027131782945736434,
          0.027131782945736434,
          0.027131782945736434,
          0.027131782945736434,
          0.027131782945736434,
          0.027131782945736434,
          0.027131782945736434,
          0.027131782945736434,
          0.025581395348837212,
          0.025581395348837212,
          0.025581395348837212,
          0.025581395348837212,
          0.025581395348837212,
          0.025581395348837212,
          0.025581395348837212,
          0.025581395348837212,
          0.025581395348837212,
          0.025581395348837212,
          0.025581395348837212,
          0.025581395348837212,
          0.025581395348837212,
          0.025581395348837212,
          0.025581395348837212,
          0.025581395348837212,
          0.025581395348837212,
          0.025581395348837212,
          0.025581395348837212,
          0.025581395348837212,
          0.025581395348837212,
          0.025581395348837212,
          0.025581395348837212,
          0.025581395348837212,
          0.025581395348837212,
          0.025581395348837212,
          0.025581395348837212,
          0.025581395348837212,
          0.025581395348837212,
          0.025581395348837212,
          0.025581395348837212,
          0.025581395348837212,
          0.025581395348837212,
          0.025581395348837212,
          0.025581395348837212,
          0.025581395348837212,
          0.025581395348837212,
          0.025581395348837212,
          0.025581395348837212,
          0.025581395348837212,
          0.025581395348837212,
          0.025581395348837212,
          0.025581395348837212,
          0.025581395348837212,
          0.025581395348837212,
          0.025581395348837212,
          0.025581395348837212,
          0.025581395348837212,
          0.025581395348837212,
          0.025581395348837212,
          0.025581395348837212,
          0.025581395348837212,
          0.025581395348837212,
          0.025581395348837212,
          0.025581395348837212,
          0.025581395348837212,
          0.025581395348837212,
          0.025581395348837212,
          0.025581395348837212,
          0.025581395348837212,
          0.025581395348837212,
          0.024806201550387597,
          0.024806201550387597,
          0.024806201550387597,
          0.024806201550387597,
          0.024806201550387597,
          0.024806201550387597
         ]
        }
       ],
       "layout": {
        "template": {
         "data": {
          "bar": [
           {
            "error_x": {
             "color": "#2a3f5f"
            },
            "error_y": {
             "color": "#2a3f5f"
            },
            "marker": {
             "line": {
              "color": "white",
              "width": 0.5
             },
             "pattern": {
              "fillmode": "overlay",
              "size": 10,
              "solidity": 0.2
             }
            },
            "type": "bar"
           }
          ],
          "barpolar": [
           {
            "marker": {
             "line": {
              "color": "white",
              "width": 0.5
             },
             "pattern": {
              "fillmode": "overlay",
              "size": 10,
              "solidity": 0.2
             }
            },
            "type": "barpolar"
           }
          ],
          "carpet": [
           {
            "aaxis": {
             "endlinecolor": "#2a3f5f",
             "gridcolor": "#C8D4E3",
             "linecolor": "#C8D4E3",
             "minorgridcolor": "#C8D4E3",
             "startlinecolor": "#2a3f5f"
            },
            "baxis": {
             "endlinecolor": "#2a3f5f",
             "gridcolor": "#C8D4E3",
             "linecolor": "#C8D4E3",
             "minorgridcolor": "#C8D4E3",
             "startlinecolor": "#2a3f5f"
            },
            "type": "carpet"
           }
          ],
          "choropleth": [
           {
            "colorbar": {
             "outlinewidth": 0,
             "ticks": ""
            },
            "type": "choropleth"
           }
          ],
          "contour": [
           {
            "colorbar": {
             "outlinewidth": 0,
             "ticks": ""
            },
            "colorscale": [
             [
              0,
              "#0d0887"
             ],
             [
              0.1111111111111111,
              "#46039f"
             ],
             [
              0.2222222222222222,
              "#7201a8"
             ],
             [
              0.3333333333333333,
              "#9c179e"
             ],
             [
              0.4444444444444444,
              "#bd3786"
             ],
             [
              0.5555555555555556,
              "#d8576b"
             ],
             [
              0.6666666666666666,
              "#ed7953"
             ],
             [
              0.7777777777777778,
              "#fb9f3a"
             ],
             [
              0.8888888888888888,
              "#fdca26"
             ],
             [
              1,
              "#f0f921"
             ]
            ],
            "type": "contour"
           }
          ],
          "contourcarpet": [
           {
            "colorbar": {
             "outlinewidth": 0,
             "ticks": ""
            },
            "type": "contourcarpet"
           }
          ],
          "heatmap": [
           {
            "colorbar": {
             "outlinewidth": 0,
             "ticks": ""
            },
            "colorscale": [
             [
              0,
              "#0d0887"
             ],
             [
              0.1111111111111111,
              "#46039f"
             ],
             [
              0.2222222222222222,
              "#7201a8"
             ],
             [
              0.3333333333333333,
              "#9c179e"
             ],
             [
              0.4444444444444444,
              "#bd3786"
             ],
             [
              0.5555555555555556,
              "#d8576b"
             ],
             [
              0.6666666666666666,
              "#ed7953"
             ],
             [
              0.7777777777777778,
              "#fb9f3a"
             ],
             [
              0.8888888888888888,
              "#fdca26"
             ],
             [
              1,
              "#f0f921"
             ]
            ],
            "type": "heatmap"
           }
          ],
          "histogram": [
           {
            "marker": {
             "pattern": {
              "fillmode": "overlay",
              "size": 10,
              "solidity": 0.2
             }
            },
            "type": "histogram"
           }
          ],
          "histogram2d": [
           {
            "colorbar": {
             "outlinewidth": 0,
             "ticks": ""
            },
            "colorscale": [
             [
              0,
              "#0d0887"
             ],
             [
              0.1111111111111111,
              "#46039f"
             ],
             [
              0.2222222222222222,
              "#7201a8"
             ],
             [
              0.3333333333333333,
              "#9c179e"
             ],
             [
              0.4444444444444444,
              "#bd3786"
             ],
             [
              0.5555555555555556,
              "#d8576b"
             ],
             [
              0.6666666666666666,
              "#ed7953"
             ],
             [
              0.7777777777777778,
              "#fb9f3a"
             ],
             [
              0.8888888888888888,
              "#fdca26"
             ],
             [
              1,
              "#f0f921"
             ]
            ],
            "type": "histogram2d"
           }
          ],
          "histogram2dcontour": [
           {
            "colorbar": {
             "outlinewidth": 0,
             "ticks": ""
            },
            "colorscale": [
             [
              0,
              "#0d0887"
             ],
             [
              0.1111111111111111,
              "#46039f"
             ],
             [
              0.2222222222222222,
              "#7201a8"
             ],
             [
              0.3333333333333333,
              "#9c179e"
             ],
             [
              0.4444444444444444,
              "#bd3786"
             ],
             [
              0.5555555555555556,
              "#d8576b"
             ],
             [
              0.6666666666666666,
              "#ed7953"
             ],
             [
              0.7777777777777778,
              "#fb9f3a"
             ],
             [
              0.8888888888888888,
              "#fdca26"
             ],
             [
              1,
              "#f0f921"
             ]
            ],
            "type": "histogram2dcontour"
           }
          ],
          "mesh3d": [
           {
            "colorbar": {
             "outlinewidth": 0,
             "ticks": ""
            },
            "type": "mesh3d"
           }
          ],
          "parcoords": [
           {
            "line": {
             "colorbar": {
              "outlinewidth": 0,
              "ticks": ""
             }
            },
            "type": "parcoords"
           }
          ],
          "pie": [
           {
            "automargin": true,
            "type": "pie"
           }
          ],
          "scatter": [
           {
            "fillpattern": {
             "fillmode": "overlay",
             "size": 10,
             "solidity": 0.2
            },
            "type": "scatter"
           }
          ],
          "scatter3d": [
           {
            "line": {
             "colorbar": {
              "outlinewidth": 0,
              "ticks": ""
             }
            },
            "marker": {
             "colorbar": {
              "outlinewidth": 0,
              "ticks": ""
             }
            },
            "type": "scatter3d"
           }
          ],
          "scattercarpet": [
           {
            "marker": {
             "colorbar": {
              "outlinewidth": 0,
              "ticks": ""
             }
            },
            "type": "scattercarpet"
           }
          ],
          "scattergeo": [
           {
            "marker": {
             "colorbar": {
              "outlinewidth": 0,
              "ticks": ""
             }
            },
            "type": "scattergeo"
           }
          ],
          "scattergl": [
           {
            "marker": {
             "colorbar": {
              "outlinewidth": 0,
              "ticks": ""
             }
            },
            "type": "scattergl"
           }
          ],
          "scattermap": [
           {
            "marker": {
             "colorbar": {
              "outlinewidth": 0,
              "ticks": ""
             }
            },
            "type": "scattermap"
           }
          ],
          "scattermapbox": [
           {
            "marker": {
             "colorbar": {
              "outlinewidth": 0,
              "ticks": ""
             }
            },
            "type": "scattermapbox"
           }
          ],
          "scatterpolar": [
           {
            "marker": {
             "colorbar": {
              "outlinewidth": 0,
              "ticks": ""
             }
            },
            "type": "scatterpolar"
           }
          ],
          "scatterpolargl": [
           {
            "marker": {
             "colorbar": {
              "outlinewidth": 0,
              "ticks": ""
             }
            },
            "type": "scatterpolargl"
           }
          ],
          "scatterternary": [
           {
            "marker": {
             "colorbar": {
              "outlinewidth": 0,
              "ticks": ""
             }
            },
            "type": "scatterternary"
           }
          ],
          "surface": [
           {
            "colorbar": {
             "outlinewidth": 0,
             "ticks": ""
            },
            "colorscale": [
             [
              0,
              "#0d0887"
             ],
             [
              0.1111111111111111,
              "#46039f"
             ],
             [
              0.2222222222222222,
              "#7201a8"
             ],
             [
              0.3333333333333333,
              "#9c179e"
             ],
             [
              0.4444444444444444,
              "#bd3786"
             ],
             [
              0.5555555555555556,
              "#d8576b"
             ],
             [
              0.6666666666666666,
              "#ed7953"
             ],
             [
              0.7777777777777778,
              "#fb9f3a"
             ],
             [
              0.8888888888888888,
              "#fdca26"
             ],
             [
              1,
              "#f0f921"
             ]
            ],
            "type": "surface"
           }
          ],
          "table": [
           {
            "cells": {
             "fill": {
              "color": "#EBF0F8"
             },
             "line": {
              "color": "white"
             }
            },
            "header": {
             "fill": {
              "color": "#C8D4E3"
             },
             "line": {
              "color": "white"
             }
            },
            "type": "table"
           }
          ]
         },
         "layout": {
          "annotationdefaults": {
           "arrowcolor": "#2a3f5f",
           "arrowhead": 0,
           "arrowwidth": 1
          },
          "autotypenumbers": "strict",
          "coloraxis": {
           "colorbar": {
            "outlinewidth": 0,
            "ticks": ""
           }
          },
          "colorscale": {
           "diverging": [
            [
             0,
             "#8e0152"
            ],
            [
             0.1,
             "#c51b7d"
            ],
            [
             0.2,
             "#de77ae"
            ],
            [
             0.3,
             "#f1b6da"
            ],
            [
             0.4,
             "#fde0ef"
            ],
            [
             0.5,
             "#f7f7f7"
            ],
            [
             0.6,
             "#e6f5d0"
            ],
            [
             0.7,
             "#b8e186"
            ],
            [
             0.8,
             "#7fbc41"
            ],
            [
             0.9,
             "#4d9221"
            ],
            [
             1,
             "#276419"
            ]
           ],
           "sequential": [
            [
             0,
             "#0d0887"
            ],
            [
             0.1111111111111111,
             "#46039f"
            ],
            [
             0.2222222222222222,
             "#7201a8"
            ],
            [
             0.3333333333333333,
             "#9c179e"
            ],
            [
             0.4444444444444444,
             "#bd3786"
            ],
            [
             0.5555555555555556,
             "#d8576b"
            ],
            [
             0.6666666666666666,
             "#ed7953"
            ],
            [
             0.7777777777777778,
             "#fb9f3a"
            ],
            [
             0.8888888888888888,
             "#fdca26"
            ],
            [
             1,
             "#f0f921"
            ]
           ],
           "sequentialminus": [
            [
             0,
             "#0d0887"
            ],
            [
             0.1111111111111111,
             "#46039f"
            ],
            [
             0.2222222222222222,
             "#7201a8"
            ],
            [
             0.3333333333333333,
             "#9c179e"
            ],
            [
             0.4444444444444444,
             "#bd3786"
            ],
            [
             0.5555555555555556,
             "#d8576b"
            ],
            [
             0.6666666666666666,
             "#ed7953"
            ],
            [
             0.7777777777777778,
             "#fb9f3a"
            ],
            [
             0.8888888888888888,
             "#fdca26"
            ],
            [
             1,
             "#f0f921"
            ]
           ]
          },
          "colorway": [
           "#636efa",
           "#EF553B",
           "#00cc96",
           "#ab63fa",
           "#FFA15A",
           "#19d3f3",
           "#FF6692",
           "#B6E880",
           "#FF97FF",
           "#FECB52"
          ],
          "font": {
           "color": "#2a3f5f"
          },
          "geo": {
           "bgcolor": "white",
           "lakecolor": "white",
           "landcolor": "white",
           "showlakes": true,
           "showland": true,
           "subunitcolor": "#C8D4E3"
          },
          "hoverlabel": {
           "align": "left"
          },
          "hovermode": "closest",
          "mapbox": {
           "style": "light"
          },
          "paper_bgcolor": "white",
          "plot_bgcolor": "white",
          "polar": {
           "angularaxis": {
            "gridcolor": "#EBF0F8",
            "linecolor": "#EBF0F8",
            "ticks": ""
           },
           "bgcolor": "white",
           "radialaxis": {
            "gridcolor": "#EBF0F8",
            "linecolor": "#EBF0F8",
            "ticks": ""
           }
          },
          "scene": {
           "xaxis": {
            "backgroundcolor": "white",
            "gridcolor": "#DFE8F3",
            "gridwidth": 2,
            "linecolor": "#EBF0F8",
            "showbackground": true,
            "ticks": "",
            "zerolinecolor": "#EBF0F8"
           },
           "yaxis": {
            "backgroundcolor": "white",
            "gridcolor": "#DFE8F3",
            "gridwidth": 2,
            "linecolor": "#EBF0F8",
            "showbackground": true,
            "ticks": "",
            "zerolinecolor": "#EBF0F8"
           },
           "zaxis": {
            "backgroundcolor": "white",
            "gridcolor": "#DFE8F3",
            "gridwidth": 2,
            "linecolor": "#EBF0F8",
            "showbackground": true,
            "ticks": "",
            "zerolinecolor": "#EBF0F8"
           }
          },
          "shapedefaults": {
           "line": {
            "color": "#2a3f5f"
           }
          },
          "ternary": {
           "aaxis": {
            "gridcolor": "#DFE8F3",
            "linecolor": "#A2B1C6",
            "ticks": ""
           },
           "baxis": {
            "gridcolor": "#DFE8F3",
            "linecolor": "#A2B1C6",
            "ticks": ""
           },
           "bgcolor": "white",
           "caxis": {
            "gridcolor": "#DFE8F3",
            "linecolor": "#A2B1C6",
            "ticks": ""
           }
          },
          "title": {
           "x": 0.05
          },
          "xaxis": {
           "automargin": true,
           "gridcolor": "#EBF0F8",
           "linecolor": "#EBF0F8",
           "ticks": "",
           "title": {
            "standoff": 15
           },
           "zerolinecolor": "#EBF0F8",
           "zerolinewidth": 2
          },
          "yaxis": {
           "automargin": true,
           "gridcolor": "#EBF0F8",
           "linecolor": "#EBF0F8",
           "ticks": "",
           "title": {
            "standoff": 15
           },
           "zerolinecolor": "#EBF0F8",
           "zerolinewidth": 2
          }
         }
        },
        "title": {
         "text": "Fitness Evolution Over Generations (Filter GA)"
        },
        "xaxis": {
         "title": {
          "text": "Generation"
         }
        },
        "yaxis": {
         "title": {
          "text": "Fitness"
         }
        }
       }
      }
     },
     "metadata": {},
     "output_type": "display_data"
    }
   ],
   "source": [
    "import plotly.graph_objects as go\n",
    "\n",
    "# Create scatter plot\n",
    "fig = go.Figure(data=go.Scatter(\n",
    "    x=generations,\n",
    "    y=fitness,\n",
    "    mode='markers+lines',\n",
    "    marker=dict(\n",
    "        color=colors,\n",
    "        size=10,\n",
    "        line=dict(width=2, color='DarkSlateGrey')\n",
    "    )\n",
    "))\n",
    "\n",
    "fig.update_layout(\n",
    "    title=\"Fitness Evolution Over Generations (Filter GA)\",\n",
    "    xaxis_title=\"Generation\",\n",
    "    yaxis_title=\"Fitness\",\n",
    "    template=\"plotly_white\"\n",
    ")\n",
    "\n",
    "fig"
   ]
  },
  {
   "cell_type": "code",
   "execution_count": 3,
   "metadata": {},
   "outputs": [],
   "source": [
    "# Load JSON data from a file\n",
    "with open('results/wrapper_evolution_log.json', 'r') as f:\n",
    "    wrapper_data = json.load(f)\n",
    "\n",
    "# Extract data\n",
    "generations = [d[\"generation\"] for d in wrapper_data]\n",
    "fitness = [d[\"fitness_(precision)\"] for d in wrapper_data]\n",
    "colors = ['blue' if d[\"improvement\"] else 'red' for d in wrapper_data]"
   ]
  },
  {
   "cell_type": "code",
   "execution_count": 4,
   "metadata": {},
   "outputs": [
    {
     "data": {
      "application/vnd.plotly.v1+json": {
       "config": {
        "plotlyServerURL": "https://plot.ly"
       },
       "data": [
        {
         "marker": {
          "color": [
           "blue",
           "blue",
           "blue",
           "blue",
           "blue",
           "red",
           "red",
           "blue",
           "blue",
           "blue",
           "red",
           "red",
           "red",
           "red",
           "red",
           "red",
           "red",
           "red",
           "red",
           "red",
           "red",
           "red",
           "red",
           "red",
           "red",
           "red",
           "red",
           "red",
           "red",
           "red",
           "red",
           "red",
           "red",
           "red",
           "red",
           "red",
           "red",
           "red",
           "red",
           "red",
           "red",
           "red",
           "red",
           "red",
           "red",
           "red",
           "red",
           "red",
           "red",
           "red",
           "red",
           "red",
           "red",
           "red",
           "blue",
           "red",
           "red",
           "red",
           "red",
           "red",
           "red",
           "red",
           "red",
           "red",
           "red",
           "red",
           "red",
           "red",
           "red",
           "red",
           "red",
           "red",
           "red",
           "red",
           "red",
           "red",
           "red",
           "red",
           "red",
           "red",
           "red",
           "red",
           "red",
           "red",
           "red",
           "red",
           "red",
           "red",
           "red",
           "red",
           "red",
           "red",
           "red",
           "red",
           "red",
           "red",
           "red",
           "red",
           "red",
           "red"
          ],
          "line": {
           "color": "DarkSlateGrey",
           "width": 2
          },
          "size": 10
         },
         "mode": "markers+lines",
         "type": "scatter",
         "x": [
          0,
          1,
          2,
          3,
          4,
          5,
          6,
          7,
          8,
          9,
          10,
          11,
          12,
          13,
          14,
          15,
          16,
          17,
          18,
          19,
          20,
          21,
          22,
          23,
          24,
          25,
          26,
          27,
          28,
          29,
          30,
          31,
          32,
          33,
          34,
          35,
          36,
          37,
          38,
          39,
          40,
          41,
          42,
          43,
          44,
          45,
          46,
          47,
          48,
          49,
          50,
          51,
          52,
          53,
          54,
          55,
          56,
          57,
          58,
          59,
          60,
          61,
          62,
          63,
          64,
          65,
          66,
          67,
          68,
          69,
          70,
          71,
          72,
          73,
          74,
          75,
          76,
          77,
          78,
          79,
          80,
          81,
          82,
          83,
          84,
          85,
          86,
          87,
          88,
          89,
          90,
          91,
          92,
          93,
          94,
          95,
          96,
          97,
          98,
          99
         ],
         "y": [
          0.7929341096076918,
          0.798132504202491,
          0.7999378586294995,
          0.8051101813110181,
          0.8056028040454444,
          0.8056028040454444,
          0.8056028040454444,
          0.806371157615091,
          0.8070972313818611,
          0.8125487084149008,
          0.8125487084149008,
          0.8125487084149008,
          0.8125487084149008,
          0.8125487084149008,
          0.8125487084149008,
          0.8125487084149008,
          0.8125487084149008,
          0.8125487084149008,
          0.8125487084149008,
          0.8125487084149008,
          0.8125487084149008,
          0.8125487084149008,
          0.8125487084149008,
          0.8125487084149008,
          0.8125487084149008,
          0.8125487084149008,
          0.8125487084149008,
          0.8125487084149008,
          0.8125487084149008,
          0.8125487084149008,
          0.8125487084149008,
          0.8125487084149008,
          0.8125487084149008,
          0.8125487084149008,
          0.8125487084149008,
          0.8125487084149008,
          0.8125487084149008,
          0.8125487084149008,
          0.8125487084149008,
          0.8125487084149008,
          0.8125487084149008,
          0.8125487084149008,
          0.8125487084149008,
          0.8125487084149008,
          0.8125487084149008,
          0.8125487084149008,
          0.8125487084149008,
          0.8125487084149008,
          0.8125487084149008,
          0.8125487084149008,
          0.8125487084149008,
          0.8125487084149008,
          0.8125487084149008,
          0.8125487084149008,
          0.8135628495142203,
          0.8135628495142203,
          0.8135628495142203,
          0.8135628495142203,
          0.8135628495142203,
          0.8135628495142203,
          0.8135628495142203,
          0.8135628495142203,
          0.8135628495142203,
          0.8135628495142203,
          0.8135628495142203,
          0.8135628495142203,
          0.8135628495142203,
          0.8135628495142203,
          0.8135628495142203,
          0.8135628495142203,
          0.8135628495142203,
          0.8135628495142203,
          0.8135628495142203,
          0.8135628495142203,
          0.8135628495142203,
          0.8135628495142203,
          0.8135628495142203,
          0.8135628495142203,
          0.8135628495142203,
          0.8135628495142203,
          0.8135628495142203,
          0.8135628495142203,
          0.8135628495142203,
          0.8135628495142203,
          0.8135628495142203,
          0.8135628495142203,
          0.8135628495142203,
          0.8135628495142203,
          0.8135628495142203,
          0.8135628495142203,
          0.8135628495142203,
          0.8135628495142203,
          0.8135628495142203,
          0.8135628495142203,
          0.8135628495142203,
          0.8135628495142203,
          0.8135628495142203,
          0.8135628495142203,
          0.8135628495142203,
          0.8135628495142203
         ]
        }
       ],
       "layout": {
        "template": {
         "data": {
          "bar": [
           {
            "error_x": {
             "color": "#2a3f5f"
            },
            "error_y": {
             "color": "#2a3f5f"
            },
            "marker": {
             "line": {
              "color": "white",
              "width": 0.5
             },
             "pattern": {
              "fillmode": "overlay",
              "size": 10,
              "solidity": 0.2
             }
            },
            "type": "bar"
           }
          ],
          "barpolar": [
           {
            "marker": {
             "line": {
              "color": "white",
              "width": 0.5
             },
             "pattern": {
              "fillmode": "overlay",
              "size": 10,
              "solidity": 0.2
             }
            },
            "type": "barpolar"
           }
          ],
          "carpet": [
           {
            "aaxis": {
             "endlinecolor": "#2a3f5f",
             "gridcolor": "#C8D4E3",
             "linecolor": "#C8D4E3",
             "minorgridcolor": "#C8D4E3",
             "startlinecolor": "#2a3f5f"
            },
            "baxis": {
             "endlinecolor": "#2a3f5f",
             "gridcolor": "#C8D4E3",
             "linecolor": "#C8D4E3",
             "minorgridcolor": "#C8D4E3",
             "startlinecolor": "#2a3f5f"
            },
            "type": "carpet"
           }
          ],
          "choropleth": [
           {
            "colorbar": {
             "outlinewidth": 0,
             "ticks": ""
            },
            "type": "choropleth"
           }
          ],
          "contour": [
           {
            "colorbar": {
             "outlinewidth": 0,
             "ticks": ""
            },
            "colorscale": [
             [
              0,
              "#0d0887"
             ],
             [
              0.1111111111111111,
              "#46039f"
             ],
             [
              0.2222222222222222,
              "#7201a8"
             ],
             [
              0.3333333333333333,
              "#9c179e"
             ],
             [
              0.4444444444444444,
              "#bd3786"
             ],
             [
              0.5555555555555556,
              "#d8576b"
             ],
             [
              0.6666666666666666,
              "#ed7953"
             ],
             [
              0.7777777777777778,
              "#fb9f3a"
             ],
             [
              0.8888888888888888,
              "#fdca26"
             ],
             [
              1,
              "#f0f921"
             ]
            ],
            "type": "contour"
           }
          ],
          "contourcarpet": [
           {
            "colorbar": {
             "outlinewidth": 0,
             "ticks": ""
            },
            "type": "contourcarpet"
           }
          ],
          "heatmap": [
           {
            "colorbar": {
             "outlinewidth": 0,
             "ticks": ""
            },
            "colorscale": [
             [
              0,
              "#0d0887"
             ],
             [
              0.1111111111111111,
              "#46039f"
             ],
             [
              0.2222222222222222,
              "#7201a8"
             ],
             [
              0.3333333333333333,
              "#9c179e"
             ],
             [
              0.4444444444444444,
              "#bd3786"
             ],
             [
              0.5555555555555556,
              "#d8576b"
             ],
             [
              0.6666666666666666,
              "#ed7953"
             ],
             [
              0.7777777777777778,
              "#fb9f3a"
             ],
             [
              0.8888888888888888,
              "#fdca26"
             ],
             [
              1,
              "#f0f921"
             ]
            ],
            "type": "heatmap"
           }
          ],
          "histogram": [
           {
            "marker": {
             "pattern": {
              "fillmode": "overlay",
              "size": 10,
              "solidity": 0.2
             }
            },
            "type": "histogram"
           }
          ],
          "histogram2d": [
           {
            "colorbar": {
             "outlinewidth": 0,
             "ticks": ""
            },
            "colorscale": [
             [
              0,
              "#0d0887"
             ],
             [
              0.1111111111111111,
              "#46039f"
             ],
             [
              0.2222222222222222,
              "#7201a8"
             ],
             [
              0.3333333333333333,
              "#9c179e"
             ],
             [
              0.4444444444444444,
              "#bd3786"
             ],
             [
              0.5555555555555556,
              "#d8576b"
             ],
             [
              0.6666666666666666,
              "#ed7953"
             ],
             [
              0.7777777777777778,
              "#fb9f3a"
             ],
             [
              0.8888888888888888,
              "#fdca26"
             ],
             [
              1,
              "#f0f921"
             ]
            ],
            "type": "histogram2d"
           }
          ],
          "histogram2dcontour": [
           {
            "colorbar": {
             "outlinewidth": 0,
             "ticks": ""
            },
            "colorscale": [
             [
              0,
              "#0d0887"
             ],
             [
              0.1111111111111111,
              "#46039f"
             ],
             [
              0.2222222222222222,
              "#7201a8"
             ],
             [
              0.3333333333333333,
              "#9c179e"
             ],
             [
              0.4444444444444444,
              "#bd3786"
             ],
             [
              0.5555555555555556,
              "#d8576b"
             ],
             [
              0.6666666666666666,
              "#ed7953"
             ],
             [
              0.7777777777777778,
              "#fb9f3a"
             ],
             [
              0.8888888888888888,
              "#fdca26"
             ],
             [
              1,
              "#f0f921"
             ]
            ],
            "type": "histogram2dcontour"
           }
          ],
          "mesh3d": [
           {
            "colorbar": {
             "outlinewidth": 0,
             "ticks": ""
            },
            "type": "mesh3d"
           }
          ],
          "parcoords": [
           {
            "line": {
             "colorbar": {
              "outlinewidth": 0,
              "ticks": ""
             }
            },
            "type": "parcoords"
           }
          ],
          "pie": [
           {
            "automargin": true,
            "type": "pie"
           }
          ],
          "scatter": [
           {
            "fillpattern": {
             "fillmode": "overlay",
             "size": 10,
             "solidity": 0.2
            },
            "type": "scatter"
           }
          ],
          "scatter3d": [
           {
            "line": {
             "colorbar": {
              "outlinewidth": 0,
              "ticks": ""
             }
            },
            "marker": {
             "colorbar": {
              "outlinewidth": 0,
              "ticks": ""
             }
            },
            "type": "scatter3d"
           }
          ],
          "scattercarpet": [
           {
            "marker": {
             "colorbar": {
              "outlinewidth": 0,
              "ticks": ""
             }
            },
            "type": "scattercarpet"
           }
          ],
          "scattergeo": [
           {
            "marker": {
             "colorbar": {
              "outlinewidth": 0,
              "ticks": ""
             }
            },
            "type": "scattergeo"
           }
          ],
          "scattergl": [
           {
            "marker": {
             "colorbar": {
              "outlinewidth": 0,
              "ticks": ""
             }
            },
            "type": "scattergl"
           }
          ],
          "scattermap": [
           {
            "marker": {
             "colorbar": {
              "outlinewidth": 0,
              "ticks": ""
             }
            },
            "type": "scattermap"
           }
          ],
          "scattermapbox": [
           {
            "marker": {
             "colorbar": {
              "outlinewidth": 0,
              "ticks": ""
             }
            },
            "type": "scattermapbox"
           }
          ],
          "scatterpolar": [
           {
            "marker": {
             "colorbar": {
              "outlinewidth": 0,
              "ticks": ""
             }
            },
            "type": "scatterpolar"
           }
          ],
          "scatterpolargl": [
           {
            "marker": {
             "colorbar": {
              "outlinewidth": 0,
              "ticks": ""
             }
            },
            "type": "scatterpolargl"
           }
          ],
          "scatterternary": [
           {
            "marker": {
             "colorbar": {
              "outlinewidth": 0,
              "ticks": ""
             }
            },
            "type": "scatterternary"
           }
          ],
          "surface": [
           {
            "colorbar": {
             "outlinewidth": 0,
             "ticks": ""
            },
            "colorscale": [
             [
              0,
              "#0d0887"
             ],
             [
              0.1111111111111111,
              "#46039f"
             ],
             [
              0.2222222222222222,
              "#7201a8"
             ],
             [
              0.3333333333333333,
              "#9c179e"
             ],
             [
              0.4444444444444444,
              "#bd3786"
             ],
             [
              0.5555555555555556,
              "#d8576b"
             ],
             [
              0.6666666666666666,
              "#ed7953"
             ],
             [
              0.7777777777777778,
              "#fb9f3a"
             ],
             [
              0.8888888888888888,
              "#fdca26"
             ],
             [
              1,
              "#f0f921"
             ]
            ],
            "type": "surface"
           }
          ],
          "table": [
           {
            "cells": {
             "fill": {
              "color": "#EBF0F8"
             },
             "line": {
              "color": "white"
             }
            },
            "header": {
             "fill": {
              "color": "#C8D4E3"
             },
             "line": {
              "color": "white"
             }
            },
            "type": "table"
           }
          ]
         },
         "layout": {
          "annotationdefaults": {
           "arrowcolor": "#2a3f5f",
           "arrowhead": 0,
           "arrowwidth": 1
          },
          "autotypenumbers": "strict",
          "coloraxis": {
           "colorbar": {
            "outlinewidth": 0,
            "ticks": ""
           }
          },
          "colorscale": {
           "diverging": [
            [
             0,
             "#8e0152"
            ],
            [
             0.1,
             "#c51b7d"
            ],
            [
             0.2,
             "#de77ae"
            ],
            [
             0.3,
             "#f1b6da"
            ],
            [
             0.4,
             "#fde0ef"
            ],
            [
             0.5,
             "#f7f7f7"
            ],
            [
             0.6,
             "#e6f5d0"
            ],
            [
             0.7,
             "#b8e186"
            ],
            [
             0.8,
             "#7fbc41"
            ],
            [
             0.9,
             "#4d9221"
            ],
            [
             1,
             "#276419"
            ]
           ],
           "sequential": [
            [
             0,
             "#0d0887"
            ],
            [
             0.1111111111111111,
             "#46039f"
            ],
            [
             0.2222222222222222,
             "#7201a8"
            ],
            [
             0.3333333333333333,
             "#9c179e"
            ],
            [
             0.4444444444444444,
             "#bd3786"
            ],
            [
             0.5555555555555556,
             "#d8576b"
            ],
            [
             0.6666666666666666,
             "#ed7953"
            ],
            [
             0.7777777777777778,
             "#fb9f3a"
            ],
            [
             0.8888888888888888,
             "#fdca26"
            ],
            [
             1,
             "#f0f921"
            ]
           ],
           "sequentialminus": [
            [
             0,
             "#0d0887"
            ],
            [
             0.1111111111111111,
             "#46039f"
            ],
            [
             0.2222222222222222,
             "#7201a8"
            ],
            [
             0.3333333333333333,
             "#9c179e"
            ],
            [
             0.4444444444444444,
             "#bd3786"
            ],
            [
             0.5555555555555556,
             "#d8576b"
            ],
            [
             0.6666666666666666,
             "#ed7953"
            ],
            [
             0.7777777777777778,
             "#fb9f3a"
            ],
            [
             0.8888888888888888,
             "#fdca26"
            ],
            [
             1,
             "#f0f921"
            ]
           ]
          },
          "colorway": [
           "#636efa",
           "#EF553B",
           "#00cc96",
           "#ab63fa",
           "#FFA15A",
           "#19d3f3",
           "#FF6692",
           "#B6E880",
           "#FF97FF",
           "#FECB52"
          ],
          "font": {
           "color": "#2a3f5f"
          },
          "geo": {
           "bgcolor": "white",
           "lakecolor": "white",
           "landcolor": "white",
           "showlakes": true,
           "showland": true,
           "subunitcolor": "#C8D4E3"
          },
          "hoverlabel": {
           "align": "left"
          },
          "hovermode": "closest",
          "mapbox": {
           "style": "light"
          },
          "paper_bgcolor": "white",
          "plot_bgcolor": "white",
          "polar": {
           "angularaxis": {
            "gridcolor": "#EBF0F8",
            "linecolor": "#EBF0F8",
            "ticks": ""
           },
           "bgcolor": "white",
           "radialaxis": {
            "gridcolor": "#EBF0F8",
            "linecolor": "#EBF0F8",
            "ticks": ""
           }
          },
          "scene": {
           "xaxis": {
            "backgroundcolor": "white",
            "gridcolor": "#DFE8F3",
            "gridwidth": 2,
            "linecolor": "#EBF0F8",
            "showbackground": true,
            "ticks": "",
            "zerolinecolor": "#EBF0F8"
           },
           "yaxis": {
            "backgroundcolor": "white",
            "gridcolor": "#DFE8F3",
            "gridwidth": 2,
            "linecolor": "#EBF0F8",
            "showbackground": true,
            "ticks": "",
            "zerolinecolor": "#EBF0F8"
           },
           "zaxis": {
            "backgroundcolor": "white",
            "gridcolor": "#DFE8F3",
            "gridwidth": 2,
            "linecolor": "#EBF0F8",
            "showbackground": true,
            "ticks": "",
            "zerolinecolor": "#EBF0F8"
           }
          },
          "shapedefaults": {
           "line": {
            "color": "#2a3f5f"
           }
          },
          "ternary": {
           "aaxis": {
            "gridcolor": "#DFE8F3",
            "linecolor": "#A2B1C6",
            "ticks": ""
           },
           "baxis": {
            "gridcolor": "#DFE8F3",
            "linecolor": "#A2B1C6",
            "ticks": ""
           },
           "bgcolor": "white",
           "caxis": {
            "gridcolor": "#DFE8F3",
            "linecolor": "#A2B1C6",
            "ticks": ""
           }
          },
          "title": {
           "x": 0.05
          },
          "xaxis": {
           "automargin": true,
           "gridcolor": "#EBF0F8",
           "linecolor": "#EBF0F8",
           "ticks": "",
           "title": {
            "standoff": 15
           },
           "zerolinecolor": "#EBF0F8",
           "zerolinewidth": 2
          },
          "yaxis": {
           "automargin": true,
           "gridcolor": "#EBF0F8",
           "linecolor": "#EBF0F8",
           "ticks": "",
           "title": {
            "standoff": 15
           },
           "zerolinecolor": "#EBF0F8",
           "zerolinewidth": 2
          }
         }
        },
        "title": {
         "text": "Fitness Evolution Over Generations (Filter GA)"
        },
        "xaxis": {
         "title": {
          "text": "Generation"
         }
        },
        "yaxis": {
         "title": {
          "text": "Fitness"
         }
        }
       }
      }
     },
     "metadata": {},
     "output_type": "display_data"
    }
   ],
   "source": [
    "# Create scatter plot\n",
    "fig = go.Figure(data=go.Scatter(\n",
    "    x=generations,\n",
    "    y=fitness,\n",
    "    mode='markers+lines',\n",
    "    marker=dict(\n",
    "        color=colors,\n",
    "        size=10,\n",
    "        line=dict(width=2, color='DarkSlateGrey')\n",
    "    )\n",
    "))\n",
    "\n",
    "fig.update_layout(\n",
    "    title=\"Fitness Evolution Over Generations (Filter GA)\",\n",
    "    xaxis_title=\"Generation\",\n",
    "    yaxis_title=\"Fitness\",\n",
    "    template=\"plotly_white\"\n",
    ")\n",
    "\n",
    "fig"
   ]
  }
 ],
 "metadata": {
  "kernelspec": {
   "display_name": "env",
   "language": "python",
   "name": "python3"
  },
  "language_info": {
   "codemirror_mode": {
    "name": "ipython",
    "version": 3
   },
   "file_extension": ".py",
   "mimetype": "text/x-python",
   "name": "python",
   "nbconvert_exporter": "python",
   "pygments_lexer": "ipython3",
   "version": "3.10.12"
  }
 },
 "nbformat": 4,
 "nbformat_minor": 2
}
